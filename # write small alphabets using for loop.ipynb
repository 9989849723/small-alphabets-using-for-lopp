{
 "cells": [
  {
   "cell_type": "code",
   "execution_count": 1,
   "id": "7e45e296",
   "metadata": {},
   "outputs": [],
   "source": [
    "# small alphabets assignment using for loop"
   ]
  },
  {
   "cell_type": "code",
   "execution_count": 2,
   "id": "8c274e4c",
   "metadata": {},
   "outputs": [
    {
     "name": "stdout",
     "output_type": "stream",
     "text": [
      " *** \n",
      "*   *\n",
      "*   *\n",
      "*   *\n",
      " *** \n",
      "    *\n"
     ]
    }
   ],
   "source": [
    "for a in range(1,7):\n",
    "    if a==1:\n",
    "        print(\" *** \")\n",
    "    if a==2:\n",
    "        print(\"*   *\")\n",
    "    if a==3:\n",
    "        print(\"*   *\")\n",
    "    if a==4:\n",
    "        print(\"*   *\")\n",
    "    if a==5:\n",
    "        print(\" *** \")\n",
    "    if a==6:\n",
    "        print(\"    *\")\n",
    "    a=a+1    "
   ]
  },
  {
   "cell_type": "code",
   "execution_count": 3,
   "id": "1262f724",
   "metadata": {},
   "outputs": [
    {
     "name": "stdout",
     "output_type": "stream",
     "text": [
      "*    \n",
      "*    \n",
      "*    \n",
      "*    \n",
      "**** \n",
      "*  * \n",
      "**** \n"
     ]
    }
   ],
   "source": [
    "for a in range(1,8):\n",
    "    if a==1:\n",
    "        print(\"*    \")\n",
    "    if a==2:\n",
    "        print(\"*    \")\n",
    "    if a==3:\n",
    "        print(\"*    \")\n",
    "    if a==4:\n",
    "        print(\"*    \")\n",
    "    if a==5:\n",
    "        print(\"**** \")\n",
    "    if a==6:\n",
    "        print(\"*  * \")\n",
    "    if a==7:\n",
    "        print(\"**** \")\n",
    "    a=a+1    "
   ]
  },
  {
   "cell_type": "code",
   "execution_count": 4,
   "id": "dde388b6",
   "metadata": {},
   "outputs": [
    {
     "name": "stdout",
     "output_type": "stream",
     "text": [
      " ****\n",
      "*    \n",
      "*    \n",
      "*    \n",
      " ****\n"
     ]
    }
   ],
   "source": [
    "for a in range(1,6):\n",
    "    if a==1:\n",
    "        print(\" ****\")\n",
    "    if a==2:\n",
    "        print(\"*    \")\n",
    "    if a==3:\n",
    "        print(\"*    \")\n",
    "    if a==4:\n",
    "        print(\"*    \")\n",
    "    if a==5:\n",
    "        print(\" ****\")\n",
    "    a=a+1    "
   ]
  },
  {
   "cell_type": "code",
   "execution_count": 6,
   "id": "dc6b5134",
   "metadata": {},
   "outputs": [
    {
     "name": "stdout",
     "output_type": "stream",
     "text": [
      "    *\n",
      "    *\n",
      "*****\n",
      "*   *\n",
      "*****\n"
     ]
    }
   ],
   "source": [
    "for a in range(1,6):\n",
    "    if a==1:\n",
    "        print(\"    *\")\n",
    "    if a==2:\n",
    "        print(\"    *\")\n",
    "    if a==3:\n",
    "        print(\"*****\")\n",
    "    if a==4:\n",
    "        print(\"*   *\")\n",
    "    if a==5:\n",
    "        print(\"*****\") \n",
    "    a=a+1    "
   ]
  },
  {
   "cell_type": "code",
   "execution_count": 12,
   "id": "78766fc5",
   "metadata": {},
   "outputs": [
    {
     "name": "stdout",
     "output_type": "stream",
     "text": [
      "*****\n",
      "*   *\n",
      "*****\n",
      "*    \n",
      "*****\n"
     ]
    }
   ],
   "source": [
    "for a in range(1,6):\n",
    "    if a==1:\n",
    "        print(\"*****\")\n",
    "    if a==2:\n",
    "        print(\"*   *\")\n",
    "    if a==3:\n",
    "        print(\"*****\")\n",
    "    if a==4:\n",
    "        print(\"*    \")\n",
    "    if a==5:\n",
    "        print(\"*****\") \n",
    "    a=a+1    "
   ]
  },
  {
   "cell_type": "code",
   "execution_count": 13,
   "id": "6b100045",
   "metadata": {},
   "outputs": [
    {
     "name": "stdout",
     "output_type": "stream",
     "text": [
      "   ***\n",
      "  *   \n",
      " **** \n",
      "  *   \n",
      "  *   \n"
     ]
    }
   ],
   "source": [
    "for a in range(1,6):\n",
    "    if a==1:\n",
    "        print(\"   ***\")\n",
    "    if a==2:\n",
    "        print(\"  *   \")\n",
    "    if a==3:\n",
    "        print(\" **** \")\n",
    "    if a==4:\n",
    "        print(\"  *   \")\n",
    "    if a==5:\n",
    "        print(\"  *   \")\n",
    "    a=a+1     "
   ]
  },
  {
   "cell_type": "code",
   "execution_count": 14,
   "id": "2d7ad44e",
   "metadata": {},
   "outputs": [
    {
     "name": "stdout",
     "output_type": "stream",
     "text": [
      " *** \n",
      "*   *\n",
      " ** *\n",
      "    *\n",
      "*   *\n",
      " *** \n"
     ]
    }
   ],
   "source": [
    "for a in range(1,7):\n",
    "    if a==1:\n",
    "        print(\" *** \")\n",
    "    if a==2:\n",
    "        print(\"*   *\")\n",
    "    elif a==3:\n",
    "        print(\" ** *\")\n",
    "    elif a==4:\n",
    "        print(\"    *\")\n",
    "    elif a==5:\n",
    "        print(\"*   *\")\n",
    "    elif a==6:\n",
    "        print(\" *** \")"
   ]
  },
  {
   "cell_type": "code",
   "execution_count": 16,
   "id": "c5eaec32",
   "metadata": {},
   "outputs": [
    {
     "name": "stdout",
     "output_type": "stream",
     "text": [
      "*    \n",
      "*    \n",
      "**** \n",
      "*   *\n",
      "*   *\n"
     ]
    }
   ],
   "source": [
    "for a in range(1,6):\n",
    "    if a==1:\n",
    "        print(\"*    \")\n",
    "    elif a==2:\n",
    "        print(\"*    \")\n",
    "    elif a==3:\n",
    "        print(\"**** \")\n",
    "    elif a==4:\n",
    "        print(\"*   *\")\n",
    "    elif a==5:\n",
    "        print(\"*   *\")"
   ]
  },
  {
   "cell_type": "code",
   "execution_count": 17,
   "id": "7f8b62e6",
   "metadata": {},
   "outputs": [
    {
     "name": "stdout",
     "output_type": "stream",
     "text": [
      "*    \n",
      "*    \n",
      "*    \n",
      "*    \n",
      "*    \n"
     ]
    }
   ],
   "source": [
    "for a in range(1,6):\n",
    "    if a==1:\n",
    "        print(\"*    \")\n",
    "    elif a==2:\n",
    "        print(\"*    \")\n",
    "    elif a==3:\n",
    "        print(\"*    \")\n",
    "    elif a==4:\n",
    "        print(\"*    \")\n",
    "    elif a==5:\n",
    "        print(\"*    \")"
   ]
  },
  {
   "cell_type": "code",
   "execution_count": 18,
   "id": "f416b8e2",
   "metadata": {},
   "outputs": [
    {
     "name": "stdout",
     "output_type": "stream",
     "text": [
      "    *\n",
      "    *\n",
      "    *\n",
      "*   *\n",
      "*****\n"
     ]
    }
   ],
   "source": [
    "for a in range(1,6):\n",
    "    if a==1:\n",
    "        print(\"    *\")\n",
    "    elif a==2:\n",
    "        print(\"    *\")\n",
    "    elif a==3:\n",
    "        print(\"    *\")\n",
    "    elif a==4:\n",
    "        print(\"*   *\")\n",
    "    elif a==5:\n",
    "        print(\"*****\")"
   ]
  },
  {
   "cell_type": "code",
   "execution_count": 19,
   "id": "12dcddd2",
   "metadata": {},
   "outputs": [
    {
     "name": "stdout",
     "output_type": "stream",
     "text": [
      "*    *\n",
      "* *   \n",
      "*     \n",
      "* *   \n",
      "*    *\n"
     ]
    }
   ],
   "source": [
    "for a in range(1,6):\n",
    "    if a==1:\n",
    "        print(\"*    *\")\n",
    "    elif a==2:\n",
    "        print(\"* *   \")\n",
    "    elif a==3:\n",
    "        print(\"*     \")\n",
    "    elif a==4:\n",
    "        print(\"* *   \")\n",
    "    elif a==5:\n",
    "        print(\"*    *\")"
   ]
  },
  {
   "cell_type": "code",
   "execution_count": 20,
   "id": "89908514",
   "metadata": {},
   "outputs": [
    {
     "name": "stdout",
     "output_type": "stream",
     "text": [
      "   *  \n",
      "   *  \n",
      "   *  \n",
      "   *  \n",
      "   *  \n"
     ]
    }
   ],
   "source": [
    "for a in range(1,6):\n",
    "    if a==1:\n",
    "        print(\"   *  \")\n",
    "    elif a==2:\n",
    "        print(\"   *  \")\n",
    "    elif a==3:\n",
    "        print(\"   *  \")\n",
    "    elif a==4:\n",
    "        print(\"   *  \")\n",
    "    elif a==5:\n",
    "        print(\"   *  \")"
   ]
  },
  {
   "cell_type": "code",
   "execution_count": 2,
   "id": "6ec43f42",
   "metadata": {},
   "outputs": [
    {
     "name": "stdout",
     "output_type": "stream",
     "text": [
      "* *** *** \n",
      " *   *   *\n",
      " *   *   *\n",
      " *   *   *\n"
     ]
    }
   ],
   "source": [
    "for a in range(1,6):\n",
    "    if a==1:\n",
    "        print(\"* *** *** \")\n",
    "    elif a==2:\n",
    "        print(\" *   *   *\")\n",
    "    elif a==3:\n",
    "        print(\" *   *   *\")\n",
    "    elif a==4:\n",
    "        print(\" *   *   *\")"
   ]
  },
  {
   "cell_type": "code",
   "execution_count": 3,
   "id": "6c2913a5",
   "metadata": {},
   "outputs": [
    {
     "name": "stdout",
     "output_type": "stream",
     "text": [
      "* *** \n",
      " *   *\n",
      " *   *\n",
      " *   *\n"
     ]
    }
   ],
   "source": [
    "for a in range(1,6):\n",
    "    if a==1:\n",
    "        print(\"* *** \")\n",
    "    elif a==2:\n",
    "        print(\" *   *\")\n",
    "    elif a==3:\n",
    "        print(\" *   *\")\n",
    "    elif a==4:\n",
    "        print(\" *   *\")"
   ]
  },
  {
   "cell_type": "code",
   "execution_count": 4,
   "id": "7399bedb",
   "metadata": {},
   "outputs": [
    {
     "name": "stdout",
     "output_type": "stream",
     "text": [
      " *** \n",
      "*   *\n",
      "*   *\n",
      " *** \n"
     ]
    }
   ],
   "source": [
    "for a in range(1,6):\n",
    "    if a==1:\n",
    "        print(\" *** \")\n",
    "    elif a==2:\n",
    "        print(\"*   *\")\n",
    "    elif a==3:\n",
    "        print(\"*   *\")\n",
    "    elif a==4:\n",
    "        print(\" *** \")"
   ]
  },
  {
   "cell_type": "code",
   "execution_count": 5,
   "id": "a7260662",
   "metadata": {},
   "outputs": [
    {
     "name": "stdout",
     "output_type": "stream",
     "text": [
      "*\n",
      " ****\n",
      " *   *\n",
      " ****\n",
      " *\n",
      " *\n"
     ]
    }
   ],
   "source": [
    "for a in range(1,7):\n",
    "    if a==1:\n",
    "        print(\"*\")\n",
    "    elif a==2:\n",
    "        print(\" ****\")\n",
    "    elif a==3:\n",
    "        print(\" *   *\")\n",
    "    elif a==4:\n",
    "        print(\" ****\")\n",
    "    elif a==5:\n",
    "        print(\" *\")\n",
    "    elif a==6:\n",
    "        print(\" *\")"
   ]
  },
  {
   "cell_type": "code",
   "execution_count": 6,
   "id": "ce05250a",
   "metadata": {},
   "outputs": [
    {
     "name": "stdout",
     "output_type": "stream",
     "text": [
      "    *\n",
      " ****\n",
      "*   *\n",
      " ****\n",
      "    *\n",
      "    *\n"
     ]
    }
   ],
   "source": [
    "for a in range (0,6):\n",
    "    if a==0:\n",
    "        print(\"    *\")\n",
    "    elif a==1:\n",
    "        print(\" ****\")\n",
    "    elif a==2:\n",
    "        print(\"*   *\")\n",
    "    elif a==3:\n",
    "        print(\" ****\")\n",
    "    elif a==4:\n",
    "        print(\"    *\")\n",
    "    elif a==5:\n",
    "        print(\"    *\")"
   ]
  },
  {
   "cell_type": "code",
   "execution_count": 9,
   "id": "4162c8ab",
   "metadata": {},
   "outputs": [
    {
     "name": "stdout",
     "output_type": "stream",
     "text": [
      "*   *\n",
      " * * \n",
      "  *  \n",
      "*  * \n",
      "*****\n"
     ]
    }
   ],
   "source": [
    "for a in range (1,6):\n",
    "    if a==1:\n",
    "        print(\"*   *\")\n",
    "    elif a==2:\n",
    "        print(\" * * \")\n",
    "    elif a==3:\n",
    "        print(\"  *  \")\n",
    "    elif a==4:\n",
    "        print(\"*  * \")\n",
    "    elif a==5:\n",
    "        print(\"*****\")"
   ]
  },
  {
   "cell_type": "code",
   "execution_count": 10,
   "id": "d6663677",
   "metadata": {},
   "outputs": [
    {
     "name": "stdout",
     "output_type": "stream",
     "text": [
      " ****\n",
      "*\n",
      " ****\n",
      "     *\n",
      " ****\n"
     ]
    }
   ],
   "source": [
    "for a in range (1,6):\n",
    "    if a==1:\n",
    "        print(\" ****\")\n",
    "    elif a==2:\n",
    "        print(\"*\")\n",
    "    elif a==3:\n",
    "        print(\" ****\")\n",
    "    elif a==4:\n",
    "        print(\"     *\")\n",
    "    elif a==5:\n",
    "        print(\" ****\")"
   ]
  },
  {
   "cell_type": "code",
   "execution_count": 11,
   "id": "d3e3934c",
   "metadata": {},
   "outputs": [
    {
     "name": "stdout",
     "output_type": "stream",
     "text": [
      " *\n",
      " *\n",
      "*****\n",
      "  *  \n",
      "  ****\n"
     ]
    }
   ],
   "source": [
    "for a in range (1,6):\n",
    "    if a==1:\n",
    "        print(\" *\")\n",
    "    elif a==2:\n",
    "        print(\" *\")\n",
    "    elif a==3:\n",
    "        print(\"*****\")\n",
    "    elif a==4:\n",
    "        print(\"  *  \")\n",
    "    elif a==5:\n",
    "        print(\"  ****\")"
   ]
  },
  {
   "cell_type": "code",
   "execution_count": 13,
   "id": "43368dc0",
   "metadata": {},
   "outputs": [
    {
     "name": "stdout",
     "output_type": "stream",
     "text": [
      "*    *\n",
      "*    *\n",
      "*    *\n",
      "*    *\n",
      " **** *\n"
     ]
    }
   ],
   "source": [
    "for a in range (1,6):\n",
    "    if a==1:\n",
    "        print(\"*    *\")\n",
    "    elif a==2:\n",
    "        print(\"*    *\") \n",
    "    elif a==3:\n",
    "        print(\"*    *\")\n",
    "    elif a==4:\n",
    "        print(\"*    *\") \n",
    "    elif a==5:\n",
    "        print(\" **** *\")"
   ]
  },
  {
   "cell_type": "code",
   "execution_count": 15,
   "id": "e3bd90c8",
   "metadata": {},
   "outputs": [
    {
     "name": "stdout",
     "output_type": "stream",
     "text": [
      "*     *\n",
      " *   *\n",
      "  * *\n",
      "   *\n"
     ]
    }
   ],
   "source": [
    "for a in range (1,5):\n",
    "    if a==1:\n",
    "        print(\"*     *\")\n",
    "    elif a==2:\n",
    "        print(\" *   *\")\n",
    "    elif a==3:\n",
    "        print(\"  * *\")\n",
    "    elif a==4:\n",
    "        print(\"   *\")"
   ]
  },
  {
   "cell_type": "code",
   "execution_count": 17,
   "id": "5234497e",
   "metadata": {},
   "outputs": [
    {
     "name": "stdout",
     "output_type": "stream",
     "text": [
      "*   *   *\n",
      "*   *   *\n",
      "*   *   *\n",
      " **  **\n"
     ]
    }
   ],
   "source": [
    "for a in range (1,6):\n",
    "    if a==1:\n",
    "        print(\"*   *   *\")\n",
    "    elif a==2:\n",
    "        print(\"*   *   *\")\n",
    "    elif a==3:\n",
    "        print(\"*   *   *\")\n",
    "    elif a==4:\n",
    "        print(\" **  **\")"
   ]
  },
  {
   "cell_type": "code",
   "execution_count": 19,
   "id": "f6d7f905",
   "metadata": {},
   "outputs": [
    {
     "name": "stdout",
     "output_type": "stream",
     "text": [
      "*     *\n",
      "  * *\n",
      "   *\n",
      "  * *\n",
      "*     *\n"
     ]
    }
   ],
   "source": [
    "for a in range (1,6):\n",
    "    if a==1:\n",
    "        print(\"*     *\")\n",
    "    elif a==2:\n",
    "        print(\"  * *\")\n",
    "    elif a==3:\n",
    "        print(\"   *\")\n",
    "    elif a==4:\n",
    "        print(\"  * *\")\n",
    "    elif a==5:\n",
    "        print(\"*     *\")"
   ]
  },
  {
   "cell_type": "code",
   "execution_count": 21,
   "id": "008a9a72",
   "metadata": {},
   "outputs": [
    {
     "name": "stdout",
     "output_type": "stream",
     "text": [
      "*    *\n",
      "*    *\n",
      " ****\n",
      "     *\n",
      "*****\n"
     ]
    }
   ],
   "source": [
    "for a in range(1,6):\n",
    "    if a==1:\n",
    "        print(\"*    *\")\n",
    "    elif a==2:\n",
    "        print(\"*    *\")\n",
    "    elif a==3:\n",
    "        print(\" ****\")\n",
    "    elif a==4:\n",
    "        print(\"     *\")\n",
    "    elif a==5:\n",
    "        print(\"*****\")"
   ]
  },
  {
   "cell_type": "code",
   "execution_count": 22,
   "id": "8b3efbab",
   "metadata": {},
   "outputs": [
    {
     "name": "stdout",
     "output_type": "stream",
     "text": [
      "****\n",
      "  *\n",
      " *\n",
      "****\n"
     ]
    }
   ],
   "source": [
    "for a in range(1,6):\n",
    "    if a==1:\n",
    "        print(\"****\")\n",
    "    elif a==2:\n",
    "        print(\"  *\")\n",
    "    elif a==3:\n",
    "        print(\" *\")\n",
    "    elif a==4:\n",
    "        print(\"****\")"
   ]
  },
  {
   "cell_type": "code",
   "execution_count": null,
   "id": "377a96a4",
   "metadata": {},
   "outputs": [],
   "source": []
  }
 ],
 "metadata": {
  "kernelspec": {
   "display_name": "Python 3 (ipykernel)",
   "language": "python",
   "name": "python3"
  },
  "language_info": {
   "codemirror_mode": {
    "name": "ipython",
    "version": 3
   },
   "file_extension": ".py",
   "mimetype": "text/x-python",
   "name": "python",
   "nbconvert_exporter": "python",
   "pygments_lexer": "ipython3",
   "version": "3.9.13"
  }
 },
 "nbformat": 4,
 "nbformat_minor": 5
}
